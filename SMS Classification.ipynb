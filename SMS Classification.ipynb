{
 "cells": [
  {
   "cell_type": "code",
   "execution_count": 1,
   "id": "64c37459-38a7-42ca-9ca5-d1d70e78a377",
   "metadata": {},
   "outputs": [],
   "source": [
    "import numpy as np\n",
    "import pandas as pd\n",
    "import string\n",
    "import nltk\n",
    "from nltk.corpus import stopwords\n",
    "from nltk.stem import PorterStemmer\n",
    "from sklearn.feature_extraction.text import CountVectorizer, TfidfVectorizer\n",
    "from sklearn.model_selection import train_test_split\n",
    "from sklearn.naive_bayes import MultinomialNB\n",
    "from sklearn.metrics import accuracy_score, classification_report\n",
    "from gensim.utils import simple_preprocess\n",
    "from gensim.models import Word2Vec\n",
    "from sklearn.linear_model import LogisticRegression"
   ]
  },
  {
   "cell_type": "code",
   "execution_count": 2,
   "id": "d36ec7fb-803e-47ed-8cba-383df69e081d",
   "metadata": {},
   "outputs": [],
   "source": [
    "df = pd.read_csv(\"SMSSpamCollection.txt\", sep='\\t', names=['label', 'message'])"
   ]
  },
  {
   "cell_type": "code",
   "execution_count": 3,
   "id": "c48df6bf-7170-438b-a073-c7a82141a774",
   "metadata": {},
   "outputs": [
    {
     "data": {
      "text/html": [
       "<div>\n",
       "<style scoped>\n",
       "    .dataframe tbody tr th:only-of-type {\n",
       "        vertical-align: middle;\n",
       "    }\n",
       "\n",
       "    .dataframe tbody tr th {\n",
       "        vertical-align: top;\n",
       "    }\n",
       "\n",
       "    .dataframe thead th {\n",
       "        text-align: right;\n",
       "    }\n",
       "</style>\n",
       "<table border=\"1\" class=\"dataframe\">\n",
       "  <thead>\n",
       "    <tr style=\"text-align: right;\">\n",
       "      <th></th>\n",
       "      <th>label</th>\n",
       "      <th>message</th>\n",
       "    </tr>\n",
       "  </thead>\n",
       "  <tbody>\n",
       "    <tr>\n",
       "      <th>0</th>\n",
       "      <td>ham</td>\n",
       "      <td>Go until jurong point, crazy.. Available only ...</td>\n",
       "    </tr>\n",
       "    <tr>\n",
       "      <th>1</th>\n",
       "      <td>ham</td>\n",
       "      <td>Ok lar... Joking wif u oni...</td>\n",
       "    </tr>\n",
       "    <tr>\n",
       "      <th>2</th>\n",
       "      <td>spam</td>\n",
       "      <td>Free entry in 2 a wkly comp to win FA Cup fina...</td>\n",
       "    </tr>\n",
       "    <tr>\n",
       "      <th>3</th>\n",
       "      <td>ham</td>\n",
       "      <td>U dun say so early hor... U c already then say...</td>\n",
       "    </tr>\n",
       "    <tr>\n",
       "      <th>4</th>\n",
       "      <td>ham</td>\n",
       "      <td>Nah I don't think he goes to usf, he lives aro...</td>\n",
       "    </tr>\n",
       "  </tbody>\n",
       "</table>\n",
       "</div>"
      ],
      "text/plain": [
       "  label                                            message\n",
       "0   ham  Go until jurong point, crazy.. Available only ...\n",
       "1   ham                      Ok lar... Joking wif u oni...\n",
       "2  spam  Free entry in 2 a wkly comp to win FA Cup fina...\n",
       "3   ham  U dun say so early hor... U c already then say...\n",
       "4   ham  Nah I don't think he goes to usf, he lives aro..."
      ]
     },
     "execution_count": 3,
     "metadata": {},
     "output_type": "execute_result"
    }
   ],
   "source": [
    "df.head()"
   ]
  },
  {
   "cell_type": "code",
   "execution_count": 4,
   "id": "8ca4fef4-efb1-49e9-bb6e-f71d636975c8",
   "metadata": {},
   "outputs": [],
   "source": [
    "## Preprocess the data\n",
    "# Remove punc\n",
    "# remove stopword\n",
    "# do stemming"
   ]
  },
  {
   "cell_type": "code",
   "execution_count": 5,
   "id": "c85e6284-41d6-4fcb-a976-2c02c4ecd7ea",
   "metadata": {},
   "outputs": [
    {
     "data": {
      "text/plain": [
       "'!\"#$%&\\'()*+,-./:;<=>?@[\\\\]^_`{|}~'"
      ]
     },
     "execution_count": 5,
     "metadata": {},
     "output_type": "execute_result"
    }
   ],
   "source": [
    "string.punctuation"
   ]
  },
  {
   "cell_type": "code",
   "execution_count": 6,
   "id": "cc4c448f-1b27-4185-8948-18357780278f",
   "metadata": {},
   "outputs": [],
   "source": [
    "## Lets first try on one message."
   ]
  },
  {
   "cell_type": "code",
   "execution_count": 7,
   "id": "7386ab8a-015e-4eb0-b04b-f2f4e505e856",
   "metadata": {},
   "outputs": [],
   "source": [
    "message = df['message'][0]"
   ]
  },
  {
   "cell_type": "code",
   "execution_count": 8,
   "id": "56c876f3-4c6b-4458-9c8c-3dc51281086a",
   "metadata": {},
   "outputs": [
    {
     "name": "stdout",
     "output_type": "stream",
     "text": [
      "Go until jurong point, crazy.. Available only in bugis n great world la e buffet... Cine there got amore wat...\n"
     ]
    }
   ],
   "source": [
    "print(message)"
   ]
  },
  {
   "cell_type": "code",
   "execution_count": 9,
   "id": "1be5fb27-fb45-4bea-871a-da44ea113cf9",
   "metadata": {},
   "outputs": [
    {
     "data": {
      "text/plain": [
       "str"
      ]
     },
     "execution_count": 9,
     "metadata": {},
     "output_type": "execute_result"
    }
   ],
   "source": [
    "type(message)"
   ]
  },
  {
   "cell_type": "code",
   "execution_count": 10,
   "id": "c7bcc31a-77a3-44bc-a35a-86f95c126a14",
   "metadata": {},
   "outputs": [],
   "source": [
    "nonpunc = [c for c in message if c not in string.punctuation]"
   ]
  },
  {
   "cell_type": "code",
   "execution_count": 11,
   "id": "1464e560-32cb-467a-8926-e04ba6c015d5",
   "metadata": {},
   "outputs": [
    {
     "data": {
      "text/plain": [
       "['G',\n",
       " 'o',\n",
       " ' ',\n",
       " 'u',\n",
       " 'n',\n",
       " 't',\n",
       " 'i',\n",
       " 'l',\n",
       " ' ',\n",
       " 'j',\n",
       " 'u',\n",
       " 'r',\n",
       " 'o',\n",
       " 'n',\n",
       " 'g',\n",
       " ' ',\n",
       " 'p',\n",
       " 'o',\n",
       " 'i',\n",
       " 'n',\n",
       " 't',\n",
       " ' ',\n",
       " 'c',\n",
       " 'r',\n",
       " 'a',\n",
       " 'z',\n",
       " 'y',\n",
       " ' ',\n",
       " 'A',\n",
       " 'v',\n",
       " 'a',\n",
       " 'i',\n",
       " 'l',\n",
       " 'a',\n",
       " 'b',\n",
       " 'l',\n",
       " 'e',\n",
       " ' ',\n",
       " 'o',\n",
       " 'n',\n",
       " 'l',\n",
       " 'y',\n",
       " ' ',\n",
       " 'i',\n",
       " 'n',\n",
       " ' ',\n",
       " 'b',\n",
       " 'u',\n",
       " 'g',\n",
       " 'i',\n",
       " 's',\n",
       " ' ',\n",
       " 'n',\n",
       " ' ',\n",
       " 'g',\n",
       " 'r',\n",
       " 'e',\n",
       " 'a',\n",
       " 't',\n",
       " ' ',\n",
       " 'w',\n",
       " 'o',\n",
       " 'r',\n",
       " 'l',\n",
       " 'd',\n",
       " ' ',\n",
       " 'l',\n",
       " 'a',\n",
       " ' ',\n",
       " 'e',\n",
       " ' ',\n",
       " 'b',\n",
       " 'u',\n",
       " 'f',\n",
       " 'f',\n",
       " 'e',\n",
       " 't',\n",
       " ' ',\n",
       " 'C',\n",
       " 'i',\n",
       " 'n',\n",
       " 'e',\n",
       " ' ',\n",
       " 't',\n",
       " 'h',\n",
       " 'e',\n",
       " 'r',\n",
       " 'e',\n",
       " ' ',\n",
       " 'g',\n",
       " 'o',\n",
       " 't',\n",
       " ' ',\n",
       " 'a',\n",
       " 'm',\n",
       " 'o',\n",
       " 'r',\n",
       " 'e',\n",
       " ' ',\n",
       " 'w',\n",
       " 'a',\n",
       " 't']"
      ]
     },
     "execution_count": 11,
     "metadata": {},
     "output_type": "execute_result"
    }
   ],
   "source": [
    "nonpunc"
   ]
  },
  {
   "cell_type": "code",
   "execution_count": 12,
   "id": "94b6594b-b856-47e4-9562-b7a21e267a91",
   "metadata": {},
   "outputs": [],
   "source": [
    "nonpunc = ''.join(nonpunc)"
   ]
  },
  {
   "cell_type": "code",
   "execution_count": 13,
   "id": "55ebcbe8-4e44-453d-9b80-a9d39674399f",
   "metadata": {},
   "outputs": [
    {
     "data": {
      "text/plain": [
       "'Go until jurong point crazy Available only in bugis n great world la e buffet Cine there got amore wat'"
      ]
     },
     "execution_count": 13,
     "metadata": {},
     "output_type": "execute_result"
    }
   ],
   "source": [
    "nonpunc"
   ]
  },
  {
   "cell_type": "code",
   "execution_count": 14,
   "id": "02e7a338-2407-40d5-95f7-45ff528da1f4",
   "metadata": {},
   "outputs": [
    {
     "data": {
      "text/plain": [
       "str"
      ]
     },
     "execution_count": 14,
     "metadata": {},
     "output_type": "execute_result"
    }
   ],
   "source": [
    "type(nonpunc)"
   ]
  },
  {
   "cell_type": "code",
   "execution_count": 15,
   "id": "9312fdfc-7989-4dac-9955-4738ecebac73",
   "metadata": {},
   "outputs": [],
   "source": [
    "## Now stopword"
   ]
  },
  {
   "cell_type": "code",
   "execution_count": 16,
   "id": "7575c4ee-8e61-4450-bf71-d370a1118b9a",
   "metadata": {},
   "outputs": [],
   "source": [
    "stopwords = stopwords.words('english')"
   ]
  },
  {
   "cell_type": "code",
   "execution_count": 17,
   "id": "a55ad989-d1b8-4a4c-b95a-533b5a752872",
   "metadata": {},
   "outputs": [
    {
     "name": "stdout",
     "output_type": "stream",
     "text": [
      "['a', 'about', 'above', 'after', 'again', 'against', 'ain', 'all', 'am', 'an', 'and', 'any', 'are', 'aren', \"aren't\", 'as', 'at', 'be', 'because', 'been', 'before', 'being', 'below', 'between', 'both', 'but', 'by', 'can', 'couldn', \"couldn't\", 'd', 'did', 'didn', \"didn't\", 'do', 'does', 'doesn', \"doesn't\", 'doing', 'don', \"don't\", 'down', 'during', 'each', 'few', 'for', 'from', 'further', 'had', 'hadn', \"hadn't\", 'has', 'hasn', \"hasn't\", 'have', 'haven', \"haven't\", 'having', 'he', \"he'd\", \"he'll\", 'her', 'here', 'hers', 'herself', \"he's\", 'him', 'himself', 'his', 'how', 'i', \"i'd\", 'if', \"i'll\", \"i'm\", 'in', 'into', 'is', 'isn', \"isn't\", 'it', \"it'd\", \"it'll\", \"it's\", 'its', 'itself', \"i've\", 'just', 'll', 'm', 'ma', 'me', 'mightn', \"mightn't\", 'more', 'most', 'mustn', \"mustn't\", 'my', 'myself', 'needn', \"needn't\", 'no', 'nor', 'not', 'now', 'o', 'of', 'off', 'on', 'once', 'only', 'or', 'other', 'our', 'ours', 'ourselves', 'out', 'over', 'own', 're', 's', 'same', 'shan', \"shan't\", 'she', \"she'd\", \"she'll\", \"she's\", 'should', 'shouldn', \"shouldn't\", \"should've\", 'so', 'some', 'such', 't', 'than', 'that', \"that'll\", 'the', 'their', 'theirs', 'them', 'themselves', 'then', 'there', 'these', 'they', \"they'd\", \"they'll\", \"they're\", \"they've\", 'this', 'those', 'through', 'to', 'too', 'under', 'until', 'up', 've', 'very', 'was', 'wasn', \"wasn't\", 'we', \"we'd\", \"we'll\", \"we're\", 'were', 'weren', \"weren't\", \"we've\", 'what', 'when', 'where', 'which', 'while', 'who', 'whom', 'why', 'will', 'with', 'won', \"won't\", 'wouldn', \"wouldn't\", 'y', 'you', \"you'd\", \"you'll\", 'your', \"you're\", 'yours', 'yourself', 'yourselves', \"you've\"]\n"
     ]
    }
   ],
   "source": [
    "print(stopwords)"
   ]
  },
  {
   "cell_type": "code",
   "execution_count": 18,
   "id": "82b7759e-3f89-481b-8af5-c0cb307162f5",
   "metadata": {},
   "outputs": [],
   "source": [
    "nonpunc = nonpunc.lower()"
   ]
  },
  {
   "cell_type": "code",
   "execution_count": 19,
   "id": "d23ee6e2-e6c3-4ed0-9c7b-8ed1682d53d3",
   "metadata": {},
   "outputs": [],
   "source": [
    "nonpunc = nonpunc.split()"
   ]
  },
  {
   "cell_type": "code",
   "execution_count": 20,
   "id": "edcf4bef-2561-427b-ad91-470e9121b2ae",
   "metadata": {},
   "outputs": [
    {
     "name": "stdout",
     "output_type": "stream",
     "text": [
      "['go', 'until', 'jurong', 'point', 'crazy', 'available', 'only', 'in', 'bugis', 'n', 'great', 'world', 'la', 'e', 'buffet', 'cine', 'there', 'got', 'amore', 'wat']\n"
     ]
    }
   ],
   "source": [
    "print(nonpunc)"
   ]
  },
  {
   "cell_type": "code",
   "execution_count": 21,
   "id": "1bd1f48a-6c87-41bf-ab25-c014f850a968",
   "metadata": {},
   "outputs": [],
   "source": [
    "clean_message = [word for word in nonpunc if word not in stopwords]"
   ]
  },
  {
   "cell_type": "code",
   "execution_count": 22,
   "id": "d9e9dcbc-5353-4f3d-95bf-67df63b6d023",
   "metadata": {},
   "outputs": [
    {
     "name": "stdout",
     "output_type": "stream",
     "text": [
      "['go', 'jurong', 'point', 'crazy', 'available', 'bugis', 'n', 'great', 'world', 'la', 'e', 'buffet', 'cine', 'got', 'amore', 'wat']\n"
     ]
    }
   ],
   "source": [
    "print(clean_message)"
   ]
  },
  {
   "cell_type": "code",
   "execution_count": 23,
   "id": "c7e5efe6-9d39-4eb9-b489-dae356e15dab",
   "metadata": {},
   "outputs": [],
   "source": [
    "clean_message = \" \".join(clean_message)"
   ]
  },
  {
   "cell_type": "code",
   "execution_count": 24,
   "id": "1845d568-74ca-423c-b2a5-24d7bf33c548",
   "metadata": {},
   "outputs": [
    {
     "data": {
      "text/plain": [
       "'go jurong point crazy available bugis n great world la e buffet cine got amore wat'"
      ]
     },
     "execution_count": 24,
     "metadata": {},
     "output_type": "execute_result"
    }
   ],
   "source": [
    "clean_message"
   ]
  },
  {
   "cell_type": "code",
   "execution_count": 25,
   "id": "98073b92-ec35-4b73-a2aa-28dd6d7991ff",
   "metadata": {},
   "outputs": [],
   "source": [
    "stemmer = PorterStemmer()"
   ]
  },
  {
   "cell_type": "code",
   "execution_count": 26,
   "id": "d57d0eb7-6088-4af5-8b5d-e0d15cdbdbda",
   "metadata": {},
   "outputs": [],
   "source": [
    "clean_message = [stemmer.stem(word) for word in clean_message]"
   ]
  },
  {
   "cell_type": "code",
   "execution_count": 27,
   "id": "84c1c932-fde9-4d44-b470-4cdfe6be98d6",
   "metadata": {},
   "outputs": [
    {
     "data": {
      "text/plain": [
       "['g',\n",
       " 'o',\n",
       " ' ',\n",
       " 'j',\n",
       " 'u',\n",
       " 'r',\n",
       " 'o',\n",
       " 'n',\n",
       " 'g',\n",
       " ' ',\n",
       " 'p',\n",
       " 'o',\n",
       " 'i',\n",
       " 'n',\n",
       " 't',\n",
       " ' ',\n",
       " 'c',\n",
       " 'r',\n",
       " 'a',\n",
       " 'z',\n",
       " 'y',\n",
       " ' ',\n",
       " 'a',\n",
       " 'v',\n",
       " 'a',\n",
       " 'i',\n",
       " 'l',\n",
       " 'a',\n",
       " 'b',\n",
       " 'l',\n",
       " 'e',\n",
       " ' ',\n",
       " 'b',\n",
       " 'u',\n",
       " 'g',\n",
       " 'i',\n",
       " 's',\n",
       " ' ',\n",
       " 'n',\n",
       " ' ',\n",
       " 'g',\n",
       " 'r',\n",
       " 'e',\n",
       " 'a',\n",
       " 't',\n",
       " ' ',\n",
       " 'w',\n",
       " 'o',\n",
       " 'r',\n",
       " 'l',\n",
       " 'd',\n",
       " ' ',\n",
       " 'l',\n",
       " 'a',\n",
       " ' ',\n",
       " 'e',\n",
       " ' ',\n",
       " 'b',\n",
       " 'u',\n",
       " 'f',\n",
       " 'f',\n",
       " 'e',\n",
       " 't',\n",
       " ' ',\n",
       " 'c',\n",
       " 'i',\n",
       " 'n',\n",
       " 'e',\n",
       " ' ',\n",
       " 'g',\n",
       " 'o',\n",
       " 't',\n",
       " ' ',\n",
       " 'a',\n",
       " 'm',\n",
       " 'o',\n",
       " 'r',\n",
       " 'e',\n",
       " ' ',\n",
       " 'w',\n",
       " 'a',\n",
       " 't']"
      ]
     },
     "execution_count": 27,
     "metadata": {},
     "output_type": "execute_result"
    }
   ],
   "source": [
    "clean_message"
   ]
  },
  {
   "cell_type": "code",
   "execution_count": 28,
   "id": "921e7eb5-e979-4115-8627-a0629dd90c29",
   "metadata": {},
   "outputs": [],
   "source": [
    "clean_message = ''.join(clean_message)"
   ]
  },
  {
   "cell_type": "code",
   "execution_count": 29,
   "id": "2a65bd22-fce4-4307-b62c-d54971651498",
   "metadata": {},
   "outputs": [
    {
     "data": {
      "text/plain": [
       "'go jurong point crazy available bugis n great world la e buffet cine got amore wat'"
      ]
     },
     "execution_count": 29,
     "metadata": {},
     "output_type": "execute_result"
    }
   ],
   "source": [
    "clean_message"
   ]
  },
  {
   "cell_type": "code",
   "execution_count": 30,
   "id": "1bd45566-6f0c-4785-8eac-4ac26bf68244",
   "metadata": {},
   "outputs": [],
   "source": [
    "## Now for wholw this process let us make a function"
   ]
  },
  {
   "cell_type": "code",
   "execution_count": 31,
   "id": "df43286c-8ca7-4ff9-99f9-8803b26f18a6",
   "metadata": {},
   "outputs": [],
   "source": [
    "def text_process(message):\n",
    "    nonpunc = [c for c in message if c not in string.punctuation]\n",
    "    nonpunc = ''.join(nonpunc)\n",
    "    nonpunc = nonpunc.lower().split()\n",
    "    clean_message = [word for word in nonpunc if word not in stopwords]\n",
    "    clean_message = \" \".join(clean_message)\n",
    "    clean_message = [stemmer.stem(word) for word in clean_message]\n",
    "    clean_message = ''.join(clean_message)\n",
    "    return clean_message"
   ]
  },
  {
   "cell_type": "code",
   "execution_count": 32,
   "id": "42ee4818-88e0-4729-9f0e-18149a8031e2",
   "metadata": {},
   "outputs": [],
   "source": [
    "df['message'] = df['message'].apply(text_process)"
   ]
  },
  {
   "cell_type": "code",
   "execution_count": 33,
   "id": "6f8eb6ae-5009-468c-935f-a6a353ec8c06",
   "metadata": {},
   "outputs": [
    {
     "data": {
      "text/html": [
       "<div>\n",
       "<style scoped>\n",
       "    .dataframe tbody tr th:only-of-type {\n",
       "        vertical-align: middle;\n",
       "    }\n",
       "\n",
       "    .dataframe tbody tr th {\n",
       "        vertical-align: top;\n",
       "    }\n",
       "\n",
       "    .dataframe thead th {\n",
       "        text-align: right;\n",
       "    }\n",
       "</style>\n",
       "<table border=\"1\" class=\"dataframe\">\n",
       "  <thead>\n",
       "    <tr style=\"text-align: right;\">\n",
       "      <th></th>\n",
       "      <th>label</th>\n",
       "      <th>message</th>\n",
       "    </tr>\n",
       "  </thead>\n",
       "  <tbody>\n",
       "    <tr>\n",
       "      <th>0</th>\n",
       "      <td>ham</td>\n",
       "      <td>go jurong point crazy available bugis n great ...</td>\n",
       "    </tr>\n",
       "    <tr>\n",
       "      <th>1</th>\n",
       "      <td>ham</td>\n",
       "      <td>ok lar joking wif u oni</td>\n",
       "    </tr>\n",
       "    <tr>\n",
       "      <th>2</th>\n",
       "      <td>spam</td>\n",
       "      <td>free entry 2 wkly comp win fa cup final tkts 2...</td>\n",
       "    </tr>\n",
       "    <tr>\n",
       "      <th>3</th>\n",
       "      <td>ham</td>\n",
       "      <td>u dun say early hor u c already say</td>\n",
       "    </tr>\n",
       "    <tr>\n",
       "      <th>4</th>\n",
       "      <td>ham</td>\n",
       "      <td>nah dont think goes usf lives around though</td>\n",
       "    </tr>\n",
       "  </tbody>\n",
       "</table>\n",
       "</div>"
      ],
      "text/plain": [
       "  label                                            message\n",
       "0   ham  go jurong point crazy available bugis n great ...\n",
       "1   ham                            ok lar joking wif u oni\n",
       "2  spam  free entry 2 wkly comp win fa cup final tkts 2...\n",
       "3   ham                u dun say early hor u c already say\n",
       "4   ham        nah dont think goes usf lives around though"
      ]
     },
     "execution_count": 33,
     "metadata": {},
     "output_type": "execute_result"
    }
   ],
   "source": [
    "df.head()"
   ]
  },
  {
   "cell_type": "code",
   "execution_count": 34,
   "id": "51b93677-f8ab-4231-b5ae-0dd617556757",
   "metadata": {},
   "outputs": [],
   "source": [
    "## Using mapping to get binary outputs"
   ]
  },
  {
   "cell_type": "code",
   "execution_count": 35,
   "id": "74d2e82c-af76-4a27-9266-1e3846b0e467",
   "metadata": {},
   "outputs": [],
   "source": [
    "df['label'] = df['label'].map({'ham': 0, 'spam': 1})"
   ]
  },
  {
   "cell_type": "code",
   "execution_count": 36,
   "id": "643d88ca-6316-4093-b4a2-5ae84ef4b57a",
   "metadata": {},
   "outputs": [
    {
     "data": {
      "text/html": [
       "<div>\n",
       "<style scoped>\n",
       "    .dataframe tbody tr th:only-of-type {\n",
       "        vertical-align: middle;\n",
       "    }\n",
       "\n",
       "    .dataframe tbody tr th {\n",
       "        vertical-align: top;\n",
       "    }\n",
       "\n",
       "    .dataframe thead th {\n",
       "        text-align: right;\n",
       "    }\n",
       "</style>\n",
       "<table border=\"1\" class=\"dataframe\">\n",
       "  <thead>\n",
       "    <tr style=\"text-align: right;\">\n",
       "      <th></th>\n",
       "      <th>label</th>\n",
       "      <th>message</th>\n",
       "    </tr>\n",
       "  </thead>\n",
       "  <tbody>\n",
       "    <tr>\n",
       "      <th>0</th>\n",
       "      <td>0</td>\n",
       "      <td>go jurong point crazy available bugis n great ...</td>\n",
       "    </tr>\n",
       "    <tr>\n",
       "      <th>1</th>\n",
       "      <td>0</td>\n",
       "      <td>ok lar joking wif u oni</td>\n",
       "    </tr>\n",
       "    <tr>\n",
       "      <th>2</th>\n",
       "      <td>1</td>\n",
       "      <td>free entry 2 wkly comp win fa cup final tkts 2...</td>\n",
       "    </tr>\n",
       "    <tr>\n",
       "      <th>3</th>\n",
       "      <td>0</td>\n",
       "      <td>u dun say early hor u c already say</td>\n",
       "    </tr>\n",
       "    <tr>\n",
       "      <th>4</th>\n",
       "      <td>0</td>\n",
       "      <td>nah dont think goes usf lives around though</td>\n",
       "    </tr>\n",
       "  </tbody>\n",
       "</table>\n",
       "</div>"
      ],
      "text/plain": [
       "   label                                            message\n",
       "0      0  go jurong point crazy available bugis n great ...\n",
       "1      0                            ok lar joking wif u oni\n",
       "2      1  free entry 2 wkly comp win fa cup final tkts 2...\n",
       "3      0                u dun say early hor u c already say\n",
       "4      0        nah dont think goes usf lives around though"
      ]
     },
     "execution_count": 36,
     "metadata": {},
     "output_type": "execute_result"
    }
   ],
   "source": [
    "df.head()"
   ]
  },
  {
   "cell_type": "markdown",
   "id": "f1f2ceb5-77f4-4888-8ca7-c6e9d6d37059",
   "metadata": {},
   "source": [
    "### 1. Countvectorizer"
   ]
  },
  {
   "cell_type": "code",
   "execution_count": 37,
   "id": "fb662cdb-b657-42c2-81a1-2a8765109e49",
   "metadata": {},
   "outputs": [],
   "source": [
    "cv = CountVectorizer(max_features=2500)\n",
    "X = cv.fit_transform(df['message'])"
   ]
  },
  {
   "cell_type": "code",
   "execution_count": 38,
   "id": "05385854-1e32-49e3-b550-a4e6554b8286",
   "metadata": {},
   "outputs": [
    {
     "name": "stdout",
     "output_type": "stream",
     "text": [
      "  (0, 959)\t1\n",
      "  (0, 1699)\t1\n",
      "  (0, 572)\t1\n",
      "  (0, 289)\t1\n",
      "  (0, 394)\t1\n",
      "  (0, 986)\t1\n",
      "  (0, 2434)\t1\n",
      "  (0, 1245)\t1\n",
      "  (0, 500)\t1\n",
      "  (0, 977)\t1\n",
      "  (0, 2351)\t1\n",
      "  (1, 1578)\t1\n",
      "  (1, 1255)\t1\n",
      "  (1, 1200)\t1\n",
      "  (1, 2395)\t1\n",
      "  (1, 1589)\t1\n",
      "  (2, 894)\t1\n",
      "  (2, 753)\t2\n",
      "  (2, 2416)\t1\n",
      "  (2, 528)\t1\n",
      "  (2, 2400)\t1\n",
      "  (2, 798)\t2\n",
      "  (2, 586)\t1\n",
      "  (2, 848)\t1\n",
      "  (2, 2175)\t1\n",
      "  :\t:\n",
      "  (5567, 720)\t1\n",
      "  (5567, 37)\t1\n",
      "  (5567, 136)\t1\n",
      "  (5567, 1710)\t1\n",
      "  (5567, 389)\t1\n",
      "  (5568, 1071)\t1\n",
      "  (5568, 966)\t1\n",
      "  (5568, 891)\t1\n",
      "  (5568, 761)\t1\n",
      "  (5569, 1492)\t1\n",
      "  (5570, 894)\t1\n",
      "  (5570, 1113)\t1\n",
      "  (5570, 1302)\t1\n",
      "  (5570, 2368)\t1\n",
      "  (5570, 1536)\t1\n",
      "  (5570, 2278)\t1\n",
      "  (5570, 1988)\t1\n",
      "  (5570, 732)\t1\n",
      "  (5570, 932)\t1\n",
      "  (5570, 403)\t1\n",
      "  (5570, 1152)\t1\n",
      "  (5570, 999)\t1\n",
      "  (5571, 1521)\t1\n",
      "  (5571, 2218)\t1\n",
      "  (5571, 1827)\t1\n",
      "<class 'scipy.sparse._csr.csr_matrix'>\n"
     ]
    }
   ],
   "source": [
    "print(X)\n",
    "print(type(X))"
   ]
  },
  {
   "cell_type": "code",
   "execution_count": 39,
   "id": "ca5a89ec-c2cd-42b9-becc-decc278a9c6c",
   "metadata": {},
   "outputs": [
    {
     "data": {
      "text/plain": [
       "(5572, 2500)"
      ]
     },
     "execution_count": 39,
     "metadata": {},
     "output_type": "execute_result"
    }
   ],
   "source": [
    "X.shape"
   ]
  },
  {
   "cell_type": "code",
   "execution_count": 40,
   "id": "ec7ab8e6-ae65-4ad3-8c66-d090a694cef8",
   "metadata": {},
   "outputs": [
    {
     "data": {
      "text/plain": [
       "(5572, 2)"
      ]
     },
     "execution_count": 40,
     "metadata": {},
     "output_type": "execute_result"
    }
   ],
   "source": [
    "df.shape"
   ]
  },
  {
   "cell_type": "code",
   "execution_count": 41,
   "id": "b969963b-e533-4f33-baaa-af3ed4d46290",
   "metadata": {},
   "outputs": [],
   "source": [
    "X_train, X_test, y_train, y_test = train_test_split(\n",
    "    X, df['label'], test_size=0.33, random_state=42)"
   ]
  },
  {
   "cell_type": "code",
   "execution_count": 42,
   "id": "2c5a7569-76bc-4401-a9bc-3d5b1c635f8d",
   "metadata": {},
   "outputs": [],
   "source": [
    "model1 = MultinomialNB()"
   ]
  },
  {
   "cell_type": "code",
   "execution_count": 43,
   "id": "9dad7340-dd6c-48be-bdd2-5bd021a3f18a",
   "metadata": {},
   "outputs": [],
   "source": [
    "model1.fit(X_train, y_train)\n",
    "y_pred = model1.predict(X_test)"
   ]
  },
  {
   "cell_type": "code",
   "execution_count": 44,
   "id": "24270bab-117f-4abc-8dfa-bc3c6ec0bc8c",
   "metadata": {},
   "outputs": [
    {
     "name": "stdout",
     "output_type": "stream",
     "text": [
      "0.9825992387166939\n",
      "\n",
      "\n",
      "              precision    recall  f1-score   support\n",
      "\n",
      "           0       0.99      0.99      0.99      1583\n",
      "           1       0.96      0.92      0.94       256\n",
      "\n",
      "    accuracy                           0.98      1839\n",
      "   macro avg       0.97      0.96      0.96      1839\n",
      "weighted avg       0.98      0.98      0.98      1839\n",
      "\n"
     ]
    }
   ],
   "source": [
    "print(accuracy_score(y_test,y_pred))\n",
    "print('\\n')\n",
    "print(classification_report(y_pred,y_test))"
   ]
  },
  {
   "cell_type": "markdown",
   "id": "49078c65-2709-4613-9356-1ca705ee24ec",
   "metadata": {},
   "source": [
    "### 2. TFIDF"
   ]
  },
  {
   "cell_type": "code",
   "execution_count": 45,
   "id": "2d1db972-8fc9-4dc1-9990-53d2938b0d3e",
   "metadata": {},
   "outputs": [],
   "source": [
    "tv = TfidfVectorizer(max_features=2500)\n",
    "X = tv.fit_transform(df['message'])"
   ]
  },
  {
   "cell_type": "code",
   "execution_count": 46,
   "id": "dae9fd85-eb44-4e8c-b2db-4f4f0aba0c9e",
   "metadata": {},
   "outputs": [],
   "source": [
    "X_train, X_test, y_train, y_test = train_test_split(\n",
    "    X, df['label'], test_size=0.33, random_state=42)"
   ]
  },
  {
   "cell_type": "code",
   "execution_count": 47,
   "id": "bb3d5e35-84b4-4735-b5f6-79c66545032a",
   "metadata": {},
   "outputs": [],
   "source": [
    "model2 = MultinomialNB()\n",
    "model2.fit(X_train, y_train)\n",
    "y_pred = model2.predict(X_test)"
   ]
  },
  {
   "cell_type": "code",
   "execution_count": 48,
   "id": "8d17f2c8-f112-4913-b113-36b50e26004c",
   "metadata": {},
   "outputs": [
    {
     "name": "stdout",
     "output_type": "stream",
     "text": [
      "0.9815116911364872\n",
      "\n",
      "\n",
      "              precision    recall  f1-score   support\n",
      "\n",
      "           0       1.00      0.98      0.99      1627\n",
      "           1       0.86      1.00      0.93       212\n",
      "\n",
      "    accuracy                           0.98      1839\n",
      "   macro avg       0.93      0.99      0.96      1839\n",
      "weighted avg       0.98      0.98      0.98      1839\n",
      "\n"
     ]
    }
   ],
   "source": [
    "print(accuracy_score(y_test,y_pred))\n",
    "print('\\n')\n",
    "print(classification_report(y_pred,y_test))"
   ]
  },
  {
   "cell_type": "markdown",
   "id": "c7e75712-0145-4848-ba26-1661485d06f3",
   "metadata": {},
   "source": [
    "### 3. Wordtovec"
   ]
  },
  {
   "cell_type": "code",
   "execution_count": 49,
   "id": "c5011f35-0af4-42df-8d52-516b7071b2b2",
   "metadata": {},
   "outputs": [],
   "source": [
    "df['message_token'] = df['message'].apply(simple_preprocess)"
   ]
  },
  {
   "cell_type": "code",
   "execution_count": 50,
   "id": "d39286c2-5084-4a30-8f0c-615da38ad5e8",
   "metadata": {},
   "outputs": [
    {
     "data": {
      "text/html": [
       "<div>\n",
       "<style scoped>\n",
       "    .dataframe tbody tr th:only-of-type {\n",
       "        vertical-align: middle;\n",
       "    }\n",
       "\n",
       "    .dataframe tbody tr th {\n",
       "        vertical-align: top;\n",
       "    }\n",
       "\n",
       "    .dataframe thead th {\n",
       "        text-align: right;\n",
       "    }\n",
       "</style>\n",
       "<table border=\"1\" class=\"dataframe\">\n",
       "  <thead>\n",
       "    <tr style=\"text-align: right;\">\n",
       "      <th></th>\n",
       "      <th>label</th>\n",
       "      <th>message</th>\n",
       "      <th>message_token</th>\n",
       "    </tr>\n",
       "  </thead>\n",
       "  <tbody>\n",
       "    <tr>\n",
       "      <th>0</th>\n",
       "      <td>0</td>\n",
       "      <td>go jurong point crazy available bugis n great ...</td>\n",
       "      <td>[go, jurong, point, crazy, available, bugis, g...</td>\n",
       "    </tr>\n",
       "    <tr>\n",
       "      <th>1</th>\n",
       "      <td>0</td>\n",
       "      <td>ok lar joking wif u oni</td>\n",
       "      <td>[ok, lar, joking, wif, oni]</td>\n",
       "    </tr>\n",
       "    <tr>\n",
       "      <th>2</th>\n",
       "      <td>1</td>\n",
       "      <td>free entry 2 wkly comp win fa cup final tkts 2...</td>\n",
       "      <td>[free, entry, wkly, comp, win, fa, cup, final,...</td>\n",
       "    </tr>\n",
       "    <tr>\n",
       "      <th>3</th>\n",
       "      <td>0</td>\n",
       "      <td>u dun say early hor u c already say</td>\n",
       "      <td>[dun, say, early, hor, already, say]</td>\n",
       "    </tr>\n",
       "    <tr>\n",
       "      <th>4</th>\n",
       "      <td>0</td>\n",
       "      <td>nah dont think goes usf lives around though</td>\n",
       "      <td>[nah, dont, think, goes, usf, lives, around, t...</td>\n",
       "    </tr>\n",
       "  </tbody>\n",
       "</table>\n",
       "</div>"
      ],
      "text/plain": [
       "   label                                            message  \\\n",
       "0      0  go jurong point crazy available bugis n great ...   \n",
       "1      0                            ok lar joking wif u oni   \n",
       "2      1  free entry 2 wkly comp win fa cup final tkts 2...   \n",
       "3      0                u dun say early hor u c already say   \n",
       "4      0        nah dont think goes usf lives around though   \n",
       "\n",
       "                                       message_token  \n",
       "0  [go, jurong, point, crazy, available, bugis, g...  \n",
       "1                        [ok, lar, joking, wif, oni]  \n",
       "2  [free, entry, wkly, comp, win, fa, cup, final,...  \n",
       "3               [dun, say, early, hor, already, say]  \n",
       "4  [nah, dont, think, goes, usf, lives, around, t...  "
      ]
     },
     "execution_count": 50,
     "metadata": {},
     "output_type": "execute_result"
    }
   ],
   "source": [
    "df.head()"
   ]
  },
  {
   "cell_type": "code",
   "execution_count": 51,
   "id": "1397dcff-493f-4ee0-80df-e5c545de803c",
   "metadata": {},
   "outputs": [],
   "source": [
    "model3 = Word2Vec(sentences=df['message_token'], window=10, min_count=2, workers=4)"
   ]
  },
  {
   "cell_type": "code",
   "execution_count": 52,
   "id": "0a20ccf4-2755-4b95-b9b3-b5aa4cfceebf",
   "metadata": {},
   "outputs": [
    {
     "data": {
      "text/plain": [
       "5572"
      ]
     },
     "execution_count": 52,
     "metadata": {},
     "output_type": "execute_result"
    }
   ],
   "source": [
    "model3.corpus_count"
   ]
  },
  {
   "cell_type": "code",
   "execution_count": 53,
   "id": "7641c161-5805-443d-b65c-bff9ae105f03",
   "metadata": {},
   "outputs": [
    {
     "data": {
      "text/plain": [
       "5"
      ]
     },
     "execution_count": 53,
     "metadata": {},
     "output_type": "execute_result"
    }
   ],
   "source": [
    "model3.epochs"
   ]
  },
  {
   "cell_type": "code",
   "execution_count": 54,
   "id": "f11b9554-300f-4b06-98e9-253bf3c04783",
   "metadata": {},
   "outputs": [],
   "source": [
    "vector = model3.wv['hello']  "
   ]
  },
  {
   "cell_type": "code",
   "execution_count": 55,
   "id": "65b1ba6e-9508-4994-85e8-831ed7d817c1",
   "metadata": {},
   "outputs": [
    {
     "data": {
      "text/plain": [
       "array([-0.3550617 ,  0.2624169 ,  0.06882585,  0.05740826,  0.05799842,\n",
       "       -0.62177056,  0.19398938,  0.91128564, -0.16886733, -0.3426646 ,\n",
       "       -0.18841675, -0.53193223, -0.00534801,  0.19620371,  0.15226337,\n",
       "       -0.30205274, -0.04775745, -0.42229554, -0.05774453, -0.7456977 ,\n",
       "        0.13189334,  0.14869846,  0.21802515, -0.19009754, -0.12645158,\n",
       "        0.04388223, -0.26767388, -0.25981557, -0.4060695 ,  0.00431402,\n",
       "        0.3584741 ,  0.07921581,  0.06923497, -0.20402674, -0.20021904,\n",
       "        0.38874006, -0.02974172, -0.3582766 , -0.28125197, -0.73186505,\n",
       "        0.10382923, -0.31837726, -0.16496761,  0.05308383,  0.20035894,\n",
       "       -0.27269673, -0.28066787, -0.04673028,  0.15625729,  0.28203094,\n",
       "        0.22118847, -0.35544017, -0.08833961, -0.10296302, -0.1491212 ,\n",
       "        0.27844062,  0.20913936, -0.06722134, -0.46256012,  0.10668241,\n",
       "        0.2160624 ,  0.25985953, -0.14925934, -0.17598641, -0.5416879 ,\n",
       "        0.28696975,  0.0429875 ,  0.25681084, -0.46109608,  0.4102563 ,\n",
       "       -0.25012544,  0.17417383,  0.52731794, -0.09379243,  0.47511503,\n",
       "        0.21248102, -0.02118628, -0.1228601 , -0.38402715,  0.15057044,\n",
       "       -0.19531305, -0.04349824, -0.5118987 ,  0.45812792, -0.11240959,\n",
       "        0.00787933, -0.01607436,  0.47850707,  0.42005837,  0.00479034,\n",
       "        0.37601107,  0.270249  ,  0.08079025,  0.1476702 ,  0.70878947,\n",
       "        0.40449995,  0.29893246, -0.30607224,  0.14226462, -0.23297554],\n",
       "      dtype=float32)"
      ]
     },
     "execution_count": 55,
     "metadata": {},
     "output_type": "execute_result"
    }
   ],
   "source": [
    "vector"
   ]
  },
  {
   "cell_type": "code",
   "execution_count": 56,
   "id": "cb792ee3-d143-4eaa-8ed0-35a4576f6dcb",
   "metadata": {},
   "outputs": [],
   "source": [
    "def get_avg_vector(message, model):\n",
    "    vectors = [model.wv[word] for word in message if word in model.wv]\n",
    "    return np.mean(vectors, axis=0) if vectors else np.zeros(model.vector_size)"
   ]
  },
  {
   "cell_type": "code",
   "execution_count": 57,
   "id": "ebbad48e-6e6d-4bc6-b64d-f38f0dec4573",
   "metadata": {},
   "outputs": [],
   "source": [
    "df['message_vector'] = df['message_token'].apply(lambda x: get_avg_vector(x, model3))"
   ]
  },
  {
   "cell_type": "code",
   "execution_count": 58,
   "id": "f7effb88-afd1-475b-9bdb-c9501803085a",
   "metadata": {},
   "outputs": [
    {
     "data": {
      "text/plain": [
       "numpy.ndarray"
      ]
     },
     "execution_count": 58,
     "metadata": {},
     "output_type": "execute_result"
    }
   ],
   "source": [
    "type(df['message_vector'][0])"
   ]
  },
  {
   "cell_type": "code",
   "execution_count": 59,
   "id": "062b2547-a735-434a-8fe8-3c19951ba1ef",
   "metadata": {},
   "outputs": [
    {
     "data": {
      "text/plain": [
       "[('south', 0.9690136909484863),\n",
       " ('india', 0.9685399532318115),\n",
       " ('information', 0.9675617814064026),\n",
       " ('cool', 0.9675594568252563),\n",
       " ('digital', 0.9674004316329956),\n",
       " ('mayb', 0.9673371911048889),\n",
       " ('probably', 0.9672539234161377),\n",
       " ('accept', 0.9672122001647949),\n",
       " ('max', 0.9670873284339905),\n",
       " ('double', 0.9669990539550781)]"
      ]
     },
     "execution_count": 59,
     "metadata": {},
     "output_type": "execute_result"
    }
   ],
   "source": [
    "model3.wv.similar_by_word('kid')"
   ]
  },
  {
   "cell_type": "code",
   "execution_count": 60,
   "id": "68c6d0ee-3c17-4f6d-8487-f28aee816447",
   "metadata": {},
   "outputs": [],
   "source": [
    "X = np.vstack(df['message_vector'].values)\n",
    "X_train, X_test, y_train, y_test = train_test_split(X, df['label'], test_size=0.33, random_state=42)"
   ]
  },
  {
   "cell_type": "code",
   "execution_count": 61,
   "id": "b3a4577a-0f79-4cd1-ad7c-9ee5dd877388",
   "metadata": {},
   "outputs": [
    {
     "data": {
      "text/plain": [
       "(3733, 100)"
      ]
     },
     "execution_count": 61,
     "metadata": {},
     "output_type": "execute_result"
    }
   ],
   "source": [
    "X_train.shape"
   ]
  },
  {
   "cell_type": "code",
   "execution_count": 62,
   "id": "77483406-f41a-43bb-a2fc-f4126d5d12af",
   "metadata": {},
   "outputs": [],
   "source": [
    "model4 = LogisticRegression(class_weight='balanced')\n",
    "model4.fit(X_train, y_train)\n",
    "y_pred = model4.predict(X_test)"
   ]
  },
  {
   "cell_type": "code",
   "execution_count": 63,
   "id": "122ecddf-ef0f-412b-97da-a96ef1717a58",
   "metadata": {},
   "outputs": [
    {
     "name": "stdout",
     "output_type": "stream",
     "text": [
      "0.9255029907558455\n",
      "\n",
      "\n",
      "              precision    recall  f1-score   support\n",
      "\n",
      "           0       0.94      0.97      0.96      1540\n",
      "           1       0.83      0.68      0.75       299\n",
      "\n",
      "    accuracy                           0.93      1839\n",
      "   macro avg       0.88      0.83      0.85      1839\n",
      "weighted avg       0.92      0.93      0.92      1839\n",
      "\n"
     ]
    }
   ],
   "source": [
    "print(accuracy_score(y_test,y_pred))\n",
    "print('\\n')\n",
    "print(classification_report(y_pred,y_test))"
   ]
  },
  {
   "cell_type": "code",
   "execution_count": null,
   "id": "61f38504-2b05-43c4-8d6c-a1a951d0d8fb",
   "metadata": {},
   "outputs": [],
   "source": []
  }
 ],
 "metadata": {
  "kernelspec": {
   "display_name": "Python 3 (ipykernel)",
   "language": "python",
   "name": "python3"
  },
  "language_info": {
   "codemirror_mode": {
    "name": "ipython",
    "version": 3
   },
   "file_extension": ".py",
   "mimetype": "text/x-python",
   "name": "python",
   "nbconvert_exporter": "python",
   "pygments_lexer": "ipython3",
   "version": "3.11.8"
  }
 },
 "nbformat": 4,
 "nbformat_minor": 5
}
